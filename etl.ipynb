{
 "cells": [
  {
   "cell_type": "markdown",
   "metadata": {},
   "source": [
    "# LIBRARIES IMPORTS"
   ]
  },
  {
   "cell_type": "code",
   "execution_count": null,
   "metadata": {},
   "outputs": [],
   "source": [
    "import pandas as pd\n",
    "import numpy as np\n",
    "\n",
    "from bs4 import BeautifulSoup\n",
    "import requests"
   ]
  },
  {
   "cell_type": "markdown",
   "metadata": {},
   "source": [
    "# VARIABLE DECLARATIONS"
   ]
  },
  {
   "cell_type": "code",
   "execution_count": 40,
   "metadata": {},
   "outputs": [],
   "source": [
    "# Define global variables\n",
    "global URL, HEADERS\n",
    "\n",
    "URL = \"https://realpython.github.io/fake-jobs/\"\n",
    "HEADERS = {\"User-Agent\": \"Mozilla/5.0\"}\n",
    "JOBS = []"
   ]
  },
  {
   "cell_type": "markdown",
   "metadata": {},
   "source": [
    "# DATA REQUEST"
   ]
  },
  {
   "cell_type": "code",
   "execution_count": 41,
   "metadata": {},
   "outputs": [],
   "source": [
    "def fetch_data():\n",
    "  global URL, HEADERS\n",
    "\n",
    "  # DATA FETCHING\n",
    "  response = requests.get(URL, headers=HEADERS)\n",
    "  if response.status_code == 200:\n",
    "    return BeautifulSoup(response.content, \"html.parser\")\n",
    "  else:\n",
    "    return {\"error\": \"Failed to fetch data\"}"
   ]
  },
  {
   "cell_type": "markdown",
   "metadata": {},
   "source": [
    "# EXTRACTIONS"
   ]
  },
  {
   "cell_type": "code",
   "execution_count": 42,
   "metadata": {},
   "outputs": [],
   "source": [
    "def data_extraction(data):\n",
    "  # DATA PARSING\n",
    "  jobs_list = data.find_all(\"div\", class_=\"column is-half\")\n",
    "  data_xl = []\n",
    "  \n",
    "  # DATA EXTRACTION\n",
    "  for job in jobs_list:\n",
    "    data_xs = {\n",
    "      \"job_title\": job.find(\"h2\", class_=\"title is-5\").text.strip(),\n",
    "      \"company_name\": job.find(\"h3\", class_=\"subtitle is-6 company\").text.strip(),\n",
    "      \"location\": job.find(\"p\", class_=\"location\").text.strip(),\n",
    "      \"date_posted\": job.find(\"time\").text.strip(),\n",
    "      # \"link\": job.find_all(\"a\", \"card-footer-item\")[1].get(\"href\").strip()\n",
    "    }\n",
    "    data_xl.append(data_xs)\n",
    "\n",
    "  # print(data_xl)\n",
    "  print(\"Data fetched successfully\")\n",
    "  return pd.DataFrame(data_xl)"
   ]
  },
  {
   "cell_type": "markdown",
   "metadata": {},
   "source": [
    "# TRANSFORMATIONS"
   ]
  },
  {
   "cell_type": "code",
   "execution_count": 43,
   "metadata": {},
   "outputs": [],
   "source": [
    "def data_transformation(data):\n",
    "  # CONVERT TIME TO DATETIME\n",
    "  data[\"date_posted\"] = pd.to_datetime(data[\"date_posted\"])\n",
    "\n",
    "  # SPLIT LOCATION INTO CITY AND STATE\n",
    "  data[[\"location\", \"location_state\"]] = data[\"location\"].str.split(\", \", expand=True)\n",
    "\n",
    "  # PARSE DATE INTO DAY/MONTH AND YEAR COLUMNS\n",
    "  data[\"year\"] = data[\"date_posted\"].dt.year # GET DATE YEAR\n",
    "  data[\"date_posted\"] = data[\"date_posted\"].dt.strftime(\"%A, %d %B\")\n",
    "\n",
    "  # REARRANGE COLUMNS\n",
    "  # data = data.iloc[:, [0, 1, 2, 5, 3, 6, 4]] # job_title(0), company_name(1), location(2), date_posted(3), link(4), location_state(5), year(6)\n",
    "  # \n",
    "  # if Link is excluded\n",
    "  data = data.iloc[:, [0, 1, 2, 4, 3, 5]] # job_title(0), company_name(1), location(2), date_posted(3), location_state(4), year(5)\n",
    "\n",
    "  # RENAME COLUMNS\n",
    "  new_cols = {\n",
    "    \"job_title\": \"Job Title\", \n",
    "    \"company_name\": \"Company Name\",\n",
    "    \"location\": \"Location (City)\",\n",
    "    \"location_state\": \"Location (State)\", \n",
    "    \"date_posted\": \"Date Posted (Day, Month, Day of Week)\",\n",
    "    \"year\": \"Date Posted (Year)\", \n",
    "    \"link\": \"Link\"\n",
    "  }\n",
    "  \n",
    "  for col in data.columns:\n",
    "    if new_cols[col]:\n",
    "      data = data.rename(columns={col: new_cols[col]})\n",
    "  \n",
    "  print(\"Data transformation completed\")\n",
    "  return data"
   ]
  },
  {
   "cell_type": "markdown",
   "metadata": {},
   "source": [
    "# LOADING DATA"
   ]
  },
  {
   "cell_type": "code",
   "execution_count": null,
   "metadata": {},
   "outputs": [],
   "source": [
    "def load_data(data):\n",
    "  data.to_csv(\"fake_jobs - Dan Aremu.csv\", index=False)\n",
    "  print(\"Data saved successfully\")"
   ]
  },
  {
   "cell_type": "code",
   "execution_count": 45,
   "metadata": {},
   "outputs": [
    {
     "name": "stdout",
     "output_type": "stream",
     "text": [
      "Data fetched successfully\n",
      "Data transformation completed\n",
      "Data saved successfully\n"
     ]
    }
   ],
   "source": [
    "if not \"raw_data\" in locals():\n",
    "  raw_data = fetch_data()\n",
    "  \n",
    "if not raw_data.error:\n",
    "  JOBS = data_extraction(raw_data)\n",
    "\n",
    "  JOBS = data_transformation(JOBS)\n",
    "  load_data(JOBS)\n",
    "else:\n",
    "  print(raw_data.error)"
   ]
  },
  {
   "cell_type": "code",
   "execution_count": 46,
   "metadata": {},
   "outputs": [
    {
     "data": {
      "text/html": [
       "<div>\n",
       "<style scoped>\n",
       "    .dataframe tbody tr th:only-of-type {\n",
       "        vertical-align: middle;\n",
       "    }\n",
       "\n",
       "    .dataframe tbody tr th {\n",
       "        vertical-align: top;\n",
       "    }\n",
       "\n",
       "    .dataframe thead th {\n",
       "        text-align: right;\n",
       "    }\n",
       "</style>\n",
       "<table border=\"1\" class=\"dataframe\">\n",
       "  <thead>\n",
       "    <tr style=\"text-align: right;\">\n",
       "      <th></th>\n",
       "      <th>Job Title</th>\n",
       "      <th>Company Name</th>\n",
       "      <th>Location (City)</th>\n",
       "      <th>Location (State)</th>\n",
       "      <th>Date Posted (Day, Month, Day of Week)</th>\n",
       "      <th>Date Posted (Year)</th>\n",
       "    </tr>\n",
       "  </thead>\n",
       "  <tbody>\n",
       "    <tr>\n",
       "      <th>0</th>\n",
       "      <td>Senior Python Developer</td>\n",
       "      <td>Payne, Roberts and Davis</td>\n",
       "      <td>Stewartbury</td>\n",
       "      <td>AA</td>\n",
       "      <td>Thursday, 08 April</td>\n",
       "      <td>2021</td>\n",
       "    </tr>\n",
       "    <tr>\n",
       "      <th>1</th>\n",
       "      <td>Energy engineer</td>\n",
       "      <td>Vasquez-Davidson</td>\n",
       "      <td>Christopherville</td>\n",
       "      <td>AA</td>\n",
       "      <td>Thursday, 08 April</td>\n",
       "      <td>2021</td>\n",
       "    </tr>\n",
       "    <tr>\n",
       "      <th>2</th>\n",
       "      <td>Legal executive</td>\n",
       "      <td>Jackson, Chambers and Levy</td>\n",
       "      <td>Port Ericaburgh</td>\n",
       "      <td>AA</td>\n",
       "      <td>Thursday, 08 April</td>\n",
       "      <td>2021</td>\n",
       "    </tr>\n",
       "    <tr>\n",
       "      <th>3</th>\n",
       "      <td>Fitness centre manager</td>\n",
       "      <td>Savage-Bradley</td>\n",
       "      <td>East Seanview</td>\n",
       "      <td>AP</td>\n",
       "      <td>Thursday, 08 April</td>\n",
       "      <td>2021</td>\n",
       "    </tr>\n",
       "    <tr>\n",
       "      <th>4</th>\n",
       "      <td>Product manager</td>\n",
       "      <td>Ramirez Inc</td>\n",
       "      <td>North Jamieview</td>\n",
       "      <td>AP</td>\n",
       "      <td>Thursday, 08 April</td>\n",
       "      <td>2021</td>\n",
       "    </tr>\n",
       "    <tr>\n",
       "      <th>...</th>\n",
       "      <td>...</td>\n",
       "      <td>...</td>\n",
       "      <td>...</td>\n",
       "      <td>...</td>\n",
       "      <td>...</td>\n",
       "      <td>...</td>\n",
       "    </tr>\n",
       "    <tr>\n",
       "      <th>95</th>\n",
       "      <td>Museum/gallery exhibitions officer</td>\n",
       "      <td>Nguyen, Yoder and Petty</td>\n",
       "      <td>Lake Abigail</td>\n",
       "      <td>AE</td>\n",
       "      <td>Thursday, 08 April</td>\n",
       "      <td>2021</td>\n",
       "    </tr>\n",
       "    <tr>\n",
       "      <th>96</th>\n",
       "      <td>Radiographer, diagnostic</td>\n",
       "      <td>Holder LLC</td>\n",
       "      <td>Jacobshire</td>\n",
       "      <td>AP</td>\n",
       "      <td>Thursday, 08 April</td>\n",
       "      <td>2021</td>\n",
       "    </tr>\n",
       "    <tr>\n",
       "      <th>97</th>\n",
       "      <td>Database administrator</td>\n",
       "      <td>Yates-Ferguson</td>\n",
       "      <td>Port Susan</td>\n",
       "      <td>AE</td>\n",
       "      <td>Thursday, 08 April</td>\n",
       "      <td>2021</td>\n",
       "    </tr>\n",
       "    <tr>\n",
       "      <th>98</th>\n",
       "      <td>Furniture designer</td>\n",
       "      <td>Ortega-Lawrence</td>\n",
       "      <td>North Tiffany</td>\n",
       "      <td>AA</td>\n",
       "      <td>Thursday, 08 April</td>\n",
       "      <td>2021</td>\n",
       "    </tr>\n",
       "    <tr>\n",
       "      <th>99</th>\n",
       "      <td>Ship broker</td>\n",
       "      <td>Fuentes, Walls and Castro</td>\n",
       "      <td>Michelleville</td>\n",
       "      <td>AP</td>\n",
       "      <td>Thursday, 08 April</td>\n",
       "      <td>2021</td>\n",
       "    </tr>\n",
       "  </tbody>\n",
       "</table>\n",
       "<p>100 rows × 6 columns</p>\n",
       "</div>"
      ],
      "text/plain": [
       "                             Job Title                Company Name  \\\n",
       "0              Senior Python Developer    Payne, Roberts and Davis   \n",
       "1                      Energy engineer            Vasquez-Davidson   \n",
       "2                      Legal executive  Jackson, Chambers and Levy   \n",
       "3               Fitness centre manager              Savage-Bradley   \n",
       "4                      Product manager                 Ramirez Inc   \n",
       "..                                 ...                         ...   \n",
       "95  Museum/gallery exhibitions officer     Nguyen, Yoder and Petty   \n",
       "96            Radiographer, diagnostic                  Holder LLC   \n",
       "97              Database administrator              Yates-Ferguson   \n",
       "98                  Furniture designer             Ortega-Lawrence   \n",
       "99                         Ship broker   Fuentes, Walls and Castro   \n",
       "\n",
       "     Location (City) Location (State) Date Posted (Day, Month, Day of Week)  \\\n",
       "0        Stewartbury               AA                    Thursday, 08 April   \n",
       "1   Christopherville               AA                    Thursday, 08 April   \n",
       "2    Port Ericaburgh               AA                    Thursday, 08 April   \n",
       "3      East Seanview               AP                    Thursday, 08 April   \n",
       "4    North Jamieview               AP                    Thursday, 08 April   \n",
       "..               ...              ...                                   ...   \n",
       "95      Lake Abigail               AE                    Thursday, 08 April   \n",
       "96        Jacobshire               AP                    Thursday, 08 April   \n",
       "97        Port Susan               AE                    Thursday, 08 April   \n",
       "98     North Tiffany               AA                    Thursday, 08 April   \n",
       "99     Michelleville               AP                    Thursday, 08 April   \n",
       "\n",
       "    Date Posted (Year)  \n",
       "0                 2021  \n",
       "1                 2021  \n",
       "2                 2021  \n",
       "3                 2021  \n",
       "4                 2021  \n",
       "..                 ...  \n",
       "95                2021  \n",
       "96                2021  \n",
       "97                2021  \n",
       "98                2021  \n",
       "99                2021  \n",
       "\n",
       "[100 rows x 6 columns]"
      ]
     },
     "execution_count": 46,
     "metadata": {},
     "output_type": "execute_result"
    }
   ],
   "source": [
    "# PRINT ALL TRANSFORMED JOBS LIST\n",
    "JOBS"
   ]
  }
 ],
 "metadata": {
  "kernelspec": {
   "display_name": "Python 3",
   "language": "python",
   "name": "python3"
  },
  "language_info": {
   "codemirror_mode": {
    "name": "ipython",
    "version": 3
   },
   "file_extension": ".py",
   "mimetype": "text/x-python",
   "name": "python",
   "nbconvert_exporter": "python",
   "pygments_lexer": "ipython3",
   "version": "3.13.1"
  }
 },
 "nbformat": 4,
 "nbformat_minor": 2
}
